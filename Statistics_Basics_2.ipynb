{
 "cells": [
  {
   "cell_type": "markdown",
   "id": "70fa096e-ce7d-4afb-8f63-d0a626737d2a",
   "metadata": {},
   "source": [
    "What are the three measures of central tendency?"
   ]
  },
  {
   "cell_type": "markdown",
   "id": "5ddee5d6-86a7-40f0-88d8-9834dd4ad6ee",
   "metadata": {},
   "source": [
    "The three main measures of central tendency are:\n",
    "\n",
    "Mean:\n",
    "The mean, also known as the average, is calculated by summing all the values in a dataset and then dividing by the number of observations.\n",
    "\n",
    "Median:\n",
    "The median is the middle value when the dataset is arranged in ascending or descending order. If there is an even number of observations, the median is the average of the two middle values.\n",
    "\n",
    "Mode:\n",
    "The mode is the value that appears most frequently in a dataset. A dataset may have no mode (if all values are distinct), one mode (unimodal), or multiple modes (bimodal or multimodal)."
   ]
  },
  {
   "cell_type": "markdown",
   "id": "7f3b7b94-198e-4fa6-a37b-5dd801c829ee",
   "metadata": {},
   "source": [
    "What is the difference between the mean, median, and mode? How are they used to measure the\n",
    "central tendency of a dataset?"
   ]
  },
  {
   "cell_type": "markdown",
   "id": "2c53c44c-3e09-4d8c-a04d-489da6c4a25b",
   "metadata": {},
   "source": [
    "Mean, Median, and Mode:\n",
    "\n",
    "Mean:\n",
    "Definition: The mean is the average of all the values in a dataset. It is calculated by summing up all the values and dividing by the number of observations.\n",
    "\n",
    "Median:\n",
    "Definition: The median is the middle value in a dataset when it is arranged in ascending or descending order. If there is an even number of observations, the median is the average of the two middle values.\n",
    "\n",
    "Mode:\n",
    "Definition: The mode is the value that occurs most frequently in a dataset. A dataset can be unimodal (one mode), bimodal (two modes), or multimodal (more than two modes).\n",
    "\n",
    "How They Measure Central Tendency:\n",
    "\n",
    "Mean: Provides a balance point for the dataset by considering all values. It is affected by extreme values, giving more weight to higher or lower values.\n",
    "\n",
    "Median: Represents the middle value, making it less sensitive to extreme values. It is suitable for skewed distributions and provides insight into the central position of the data.\n",
    "\n",
    "Mode: Represents the most common value(s) and is useful for identifying the peak(s) in the distribution. It is especially valuable in cases where frequency information is crucial."
   ]
  },
  {
   "cell_type": "markdown",
   "id": "5b530751-cf36-4ea8-8a90-9572ceec1e9f",
   "metadata": {},
   "source": [
    "Measure the three measures of central tendency for the given height data:"
   ]
  },
  {
   "cell_type": "code",
   "execution_count": 15,
   "id": "efa67ff1-dcba-44f1-995d-fe269a7939d1",
   "metadata": {},
   "outputs": [],
   "source": [
    "data = [178,177,176,177,178.2,178,175,179,180,175,178.9,176.2,177,172.5,178,176.5]"
   ]
  },
  {
   "cell_type": "code",
   "execution_count": 16,
   "id": "81151d47-1324-482a-a22c-f99d806a307c",
   "metadata": {},
   "outputs": [
    {
     "name": "stdout",
     "output_type": "stream",
     "text": [
      "Data Mean Value: 177.01875\n",
      "Data Median Value: 177.0\n",
      "Data Mode Value: 177.0\n"
     ]
    },
    {
     "name": "stderr",
     "output_type": "stream",
     "text": [
      "/tmp/ipykernel_144/3634105700.py:10: FutureWarning: Unlike other reduction functions (e.g. `skew`, `kurtosis`), the default behavior of `mode` typically preserves the axis it acts along. In SciPy 1.11.0, this behavior will change: the default value of `keepdims` will become False, the `axis` over which the statistic is taken will be eliminated, and the value None will no longer be accepted. Set `keepdims` to True or False to avoid this warning.\n",
      "  mode_value = stats.mode(data).mode[0]\n"
     ]
    }
   ],
   "source": [
    "import numpy as np\n",
    "from scipy import stats\n",
    "\n",
    "mean_value = np.mean(data)\n",
    "print(\"Data Mean Value:\",mean_value)\n",
    "\n",
    "median_value = np.median(data)\n",
    "print(\"Data Median Value:\",median_value)\n",
    "\n",
    "mode_value = stats.mode(data).mode[0]\n",
    "print(\"Data Mode Value:\",mode_value)"
   ]
  },
  {
   "cell_type": "markdown",
   "id": "adcfa39c-669d-408d-a6ea-3c626ae11004",
   "metadata": {},
   "source": [
    "Find the standard deviation for the given data:\n",
    "[178,177,176,177,178.2,178,175,179,180,175,178.9,176.2,177,172.5,178,176.5]"
   ]
  },
  {
   "cell_type": "code",
   "execution_count": 17,
   "id": "da1efdc0-e657-45af-a807-57fd350d50a2",
   "metadata": {},
   "outputs": [
    {
     "name": "stdout",
     "output_type": "stream",
     "text": [
      "standard deviation value is 1.7885814036548633\n"
     ]
    }
   ],
   "source": [
    "std_ = np.std(data)\n",
    "print(\"standard deviation value is\",std_)"
   ]
  },
  {
   "cell_type": "markdown",
   "id": "4ebb0363-d50b-462a-9fb8-a3ae6aaf834e",
   "metadata": {},
   "source": [
    "How are measures of dispersion such as range, variance, and standard deviation used to describe\n",
    "the spread of a dataset? Provide an example."
   ]
  },
  {
   "cell_type": "markdown",
   "id": "85fb3abc-81af-4d64-88b7-55e67f21dd29",
   "metadata": {},
   "source": [
    "Measures of dispersion, including range, variance, and standard deviation, are used to describe how spread out or scattered the values in a dataset are. These measures provide insights into the variability or dispersion of data points around a central tendency. Here's how each measure is used:\n",
    "\n",
    "Range:\n",
    "The range is the difference between the maximum and minimum values in a dataset.\n",
    "Use: It gives a quick and simple indication of the spread of the data. However, it is sensitive to outliers and might not provide a complete picture of the variability.\n",
    "\n",
    "Variance:\n",
    "Definition: Variance is the average of the squared differences between each data point and the mean.\n",
    "Use: It provides a comprehensive measure of how far each data point deviates from the mean. However, since variance is in squared units, the standard deviation (the square root of variance) is often preferred for easier interpretation.\n",
    "\n",
    "Standard Deviation:\n",
    "Definition: The standard deviation is the square root of the variance. It measures the average amount of deviation of each data point from the mean.\n",
    "Use: Like variance, the standard deviation quantifies the spread of data, but it is in the original units. It provides a more interpretable measure of dispersion and is commonly used in statistical analyses."
   ]
  },
  {
   "cell_type": "code",
   "execution_count": 18,
   "id": "7d945f28-8a26-4c90-a6a5-8bc66e7335f7",
   "metadata": {},
   "outputs": [],
   "source": [
    "# Exam scores for two classes\n",
    "class_a_scores = np.array([80, 85, 88, 92, 78])\n",
    "\n",
    "class_b_scores = np.array([75, 90, 82, 88, 95])"
   ]
  },
  {
   "cell_type": "code",
   "execution_count": 19,
   "id": "a56359ae-57ca-45e8-9151-cb7e49928c16",
   "metadata": {},
   "outputs": [
    {
     "name": "stdout",
     "output_type": "stream",
     "text": [
      "Class A - Range: 14, Variance: 26.24, Std Dev: 5.12\n",
      "Class B - Range: 20, Variance: 47.60, Std Dev: 6.90\n"
     ]
    }
   ],
   "source": [
    "range_a = np.ptp(class_a_scores)\n",
    "range_b = np.ptp(class_b_scores)\n",
    "\n",
    "variance_a = np.var(class_a_scores)\n",
    "variance_b = np.var(class_b_scores)\n",
    "\n",
    "std_dev_a = np.std(class_a_scores)\n",
    "std_dev_b = np.std(class_b_scores)\n",
    "\n",
    "# Print the results\n",
    "print(f\"Class A - Range: {range_a}, Variance: {variance_a:.2f}, Std Dev: {std_dev_a:.2f}\")\n",
    "print(f\"Class B - Range: {range_b}, Variance: {variance_b:.2f}, Std Dev: {std_dev_b:.2f}\")"
   ]
  },
  {
   "cell_type": "markdown",
   "id": "3a70e4f4-2d97-4822-bc49-7177e741f56e",
   "metadata": {},
   "source": [
    "What is a Venn diagram?"
   ]
  },
  {
   "cell_type": "markdown",
   "id": "24029284-dca8-4245-9083-5de6d0b3da63",
   "metadata": {},
   "source": [
    "A Venn diagram is a graphical representation that illustrates the relationships and commonalities between different sets or groups. It consists of overlapping circles, each representing a set, with the overlapping regions indicating elements that belong to multiple sets. "
   ]
  },
  {
   "cell_type": "markdown",
   "id": "9619a058-10ed-4476-9106-677d48fa38e6",
   "metadata": {},
   "source": [
    "Q7. For the two given sets A = (2,3,4,5,6,7) & B = (0,2,6,8,10). Find:"
   ]
  },
  {
   "cell_type": "code",
   "execution_count": 20,
   "id": "8dae1961-0333-4bcc-a542-d0ce506bc00e",
   "metadata": {},
   "outputs": [
    {
     "name": "stdout",
     "output_type": "stream",
     "text": [
      "A intersection B: {2, 6}\n",
      "A union B: {0, 2, 3, 4, 5, 6, 7, 8, 10}\n"
     ]
    }
   ],
   "source": [
    "A = {2, 3, 4, 5, 6, 7}\n",
    "B = {0, 2, 6, 8, 10}\n",
    "\n",
    "intersection_result = A.intersection(B)\n",
    "\n",
    "union_result = A.union(B)\n",
    "\n",
    "print(f\"A intersection B: {intersection_result}\")\n",
    "print(f\"A union B: {union_result}\")"
   ]
  },
  {
   "cell_type": "markdown",
   "id": "388613b7-de0e-49f3-9f5f-a784b7d96059",
   "metadata": {},
   "source": [
    "What do you understand about skewness in data?"
   ]
  },
  {
   "cell_type": "markdown",
   "id": "cdb6ea15-9179-481e-9929-03df15b4964b",
   "metadata": {},
   "source": [
    "Skewness is a measure of the asymmetry in a dataset's distribution. It indicates the extent and direction of skew (departure from horizontal symmetry) in the data. In a perfectly symmetrical distribution, the left and right sides mirror each other, and the skewness is zero. However, when the distribution is not symmetrical, skewness will be nonzero."
   ]
  },
  {
   "cell_type": "markdown",
   "id": "2e68b42a-6abf-422a-a9ce-97f6eb706439",
   "metadata": {},
   "source": [
    "If a data is right skewed then what will be the position of median with respect to mean?"
   ]
  },
  {
   "cell_type": "markdown",
   "id": "bdd7fd88-dd15-4867-8667-ecef9e67c8b8",
   "metadata": {},
   "source": [
    "In a right-skewed distribution, the mean is typically greater than the median"
   ]
  },
  {
   "cell_type": "markdown",
   "id": "bd1ff911-049c-4691-9a3a-f81482dfda85",
   "metadata": {},
   "source": [
    "Explain the difference between covariance and correlation. How are these measures used in\n",
    "statistical analysis?"
   ]
  },
  {
   "cell_type": "markdown",
   "id": "f4b97c9d-d114-4536-aa77-64f815327907",
   "metadata": {},
   "source": [
    "Covariance:\n",
    "Definition: Covariance measures the degree to which two variables change together. It indicates the direction of the linear relationship between two variables.\n",
    "\n",
    "Correlation:\n",
    "Definition: Correlation is a standardized measure that expresses the strength and direction of a linear relationship between two variables. It normalizes covariance to be between -1 and 1, making it easier to interpret."
   ]
  },
  {
   "cell_type": "markdown",
   "id": "7de09be4-c8c2-4cc8-b18f-3a60ea1594fb",
   "metadata": {},
   "source": [
    "Covariance: Covariance is used to understand the direction of the relationship between two variables. However, its interpretation is limited due to its dependence on the scale of the variables.\n",
    "\n",
    "Correlation: Correlation is widely used in statistical analysis because it provides a standardized measure of the strength and direction of a linear relationship. It helps in comparing relationships between different pairs of variables and is particularly useful when dealing with variables with different units or scales"
   ]
  },
  {
   "cell_type": "markdown",
   "id": "7b42bba4-d39b-4301-ba46-a2d2a5fcec69",
   "metadata": {},
   "source": [
    "\n",
    "The sample mean is calculated by summing up all the values in a dataset and then dividing by the number of observations in the sample. The formula for the sample mean is as follows:\n",
    "\n",
    "¯x=  (∑_(i=0)^n▒x_i )/n\n",
    "\n"
   ]
  },
  {
   "cell_type": "markdown",
   "id": "e44411b3-05ea-42a5-9536-af713ad9c2b5",
   "metadata": {},
   "source": [
    "For a normal distribution data what is the relationship between its measure of central tendency?\n",
    "\n",
    "Mean=Median=Mode"
   ]
  },
  {
   "cell_type": "markdown",
   "id": "e2f1acad-bd44-4e9b-a982-1162631459c1",
   "metadata": {},
   "source": [
    "How is covariance different from correlation?\n",
    "Covariance measures the degree and direction of the linear relationship between two variables, but it is not normalized and depends on the scale of the variables. Correlation is a standardized measure that normalizes covariance to a range between -1 and 1, making it unitless and easier to interpret."
   ]
  },
  {
   "cell_type": "markdown",
   "id": "8b8a1f32-a308-4e91-a9b5-9bc769aeae24",
   "metadata": {},
   "source": [
    "\n",
    "How do outliers affect measures of central tendency and dispersion? Provide an example"
   ]
  },
  {
   "cell_type": "markdown",
   "id": "1207ad2e-498b-4cf7-be65-58d6830d71d4",
   "metadata": {},
   "source": [
    "Outliers can significantly impact measures of central tendency and dispersion. Their presence can distort the mean, making it less representative of the majority of the data, and influence measures of dispersion, such as range and standard deviation. Here's an example using Python:"
   ]
  },
  {
   "cell_type": "code",
   "execution_count": 14,
   "id": "44a4deaa-2fab-4993-8ec1-53040dbbfa62",
   "metadata": {},
   "outputs": [
    {
     "name": "stdout",
     "output_type": "stream",
     "text": [
      "With Outliers:\n",
      "Mean: 27.625\n",
      "Standard Deviation: 27.721550732237183\n",
      "\n",
      "Without Outliers:\n",
      "Mean: 17.285714285714285\n",
      "Standard Deviation: 4.80221037542046\n"
     ]
    }
   ],
   "source": [
    "import numpy as np\n",
    "# Create a dataset with outliers\n",
    "data_with_outliers = [10, 12, 15, 18, 20, 22, 24, 100]\n",
    "\n",
    "# Calculate mean and standard deviation with outliers\n",
    "mean_with_outliers = np.mean(data_with_outliers)\n",
    "std_dev_with_outliers = np.std(data_with_outliers)\n",
    "\n",
    "# Remove outliers\n",
    "data_without_outliers = [x for x in data_with_outliers if x < 50]\n",
    "\n",
    "# Calculate mean and standard deviation without outliers\n",
    "mean_without_outliers = np.mean(data_without_outliers)\n",
    "std_dev_without_outliers = np.std(data_without_outliers)\n",
    "\n",
    "# Print results\n",
    "print(\"With Outliers:\")\n",
    "print(f\"Mean: {mean_with_outliers}\")\n",
    "print(f\"Standard Deviation: {std_dev_with_outliers}\")\n",
    "\n",
    "print(\"\\nWithout Outliers:\")\n",
    "print(f\"Mean: {mean_without_outliers}\")\n",
    "print(f\"Standard Deviation: {std_dev_without_outliers}\")"
   ]
  },
  {
   "cell_type": "markdown",
   "id": "0970d9a3-6db5-4851-b94b-294a4842eb77",
   "metadata": {},
   "source": [
    "The presence of the outlier significantly increased the mean and standard deviation, making them less reflective of the central tendency and dispersion of the majority of the data. Removing the outlier resulted in more representative measures."
   ]
  }
 ],
 "metadata": {
  "kernelspec": {
   "display_name": "Python 3 (ipykernel)",
   "language": "python",
   "name": "python3"
  },
  "language_info": {
   "codemirror_mode": {
    "name": "ipython",
    "version": 3
   },
   "file_extension": ".py",
   "mimetype": "text/x-python",
   "name": "python",
   "nbconvert_exporter": "python",
   "pygments_lexer": "ipython3",
   "version": "3.10.8"
  }
 },
 "nbformat": 4,
 "nbformat_minor": 5
}
